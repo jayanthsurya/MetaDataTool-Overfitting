{
 "cells": [
  {
   "cell_type": "code",
   "execution_count": 16,
   "id": "70dbcdbb",
   "metadata": {},
   "outputs": [
    {
     "name": "stdout",
     "output_type": "stream",
     "text": [
      "Linear Regression R2 Train: 0.236\n",
      "Linear Regression R2 Test: 0.085\n",
      "The dataset seems to have a data overfitting issue\n",
      "Using ridge regression we can regularize the data in order to reduce the overfitting issue!\n",
      "Ridge Regression R2 Train: 0.567\n",
      "Ridge Regression R2 Test: 0.528\n"
     ]
    },
    {
     "name": "stderr",
     "output_type": "stream",
     "text": [
      "C:\\Users\\HP\\anaconda3\\lib\\site-packages\\sklearn\\linear_model\\_logistic.py:814: ConvergenceWarning: lbfgs failed to converge (status=1):\n",
      "STOP: TOTAL NO. of ITERATIONS REACHED LIMIT.\n",
      "\n",
      "Increase the number of iterations (max_iter) or scale the data as shown in:\n",
      "    https://scikit-learn.org/stable/modules/preprocessing.html\n",
      "Please also refer to the documentation for alternative solver options:\n",
      "    https://scikit-learn.org/stable/modules/linear_model.html#logistic-regression\n",
      "  n_iter_i = _check_optimize_result(\n"
     ]
    }
   ],
   "source": [
    "import pandas as pd\n",
    "from sklearn.model_selection import train_test_split\n",
    "from sklearn.preprocessing import LabelEncoder, StandardScaler\n",
    "from sklearn.linear_model import LogisticRegression, Ridge\n",
    "from sklearn.metrics import accuracy_score, r2_score\n",
    "\n",
    "# Load the dataset\n",
    "data = pd.read_excel('mobi.xlsx')\n",
    "\n",
    "# Select the relevant columns for prediction\n",
    "selected_columns = ['Battery capacity (mAh)', 'Screen size (inches)', 'Resolution x', 'Resolution y', 'Processor', 'RAM (MB)', 'Internal storage (GB)', 'Rear camera', 'Front camera', 'Operating system', 'Wi-Fi', 'Bluetooth', 'GPS', 'Number of SIMs', '3G', '4G/ LTE', 'Price']\n",
    "data = data[selected_columns]\n",
    "\n",
    "# Preprocessing\n",
    "data = data.dropna()  # Remove rows with missing values\n",
    "\n",
    "# Separate the features and target variable\n",
    "X = data.iloc[:, :-1]  # Features\n",
    "y = data.iloc[:, -1]   # Labels\n",
    "\n",
    "# Encode categorical features\n",
    "label_encoder = LabelEncoder()\n",
    "X['Operating system'] = label_encoder.fit_transform(X['Operating system'])\n",
    "X['Wi-Fi'] = label_encoder.fit_transform(X['Wi-Fi'])\n",
    "X['Bluetooth'] = label_encoder.fit_transform(X['Bluetooth'])\n",
    "X['GPS'] = label_encoder.fit_transform(X['GPS'])\n",
    "X['3G'] = label_encoder.fit_transform(X['3G'])\n",
    "X['4G/ LTE'] = label_encoder.fit_transform(X['4G/ LTE'])\n",
    "\n",
    "# Split the dataset into training and testing sets\n",
    "X_train, X_test, y_train, y_test = train_test_split(X, y, test_size=0.3, random_state=10)\n",
    "\n",
    "# Feature scaling\n",
    "scaler = StandardScaler()\n",
    "X_train = scaler.fit_transform(X_train)\n",
    "X_test = scaler.transform(X_test)\n",
    "\n",
    "# Model training\n",
    "model = LogisticRegression()\n",
    "model.fit(X_train, y_train)\n",
    "\n",
    "# Model prediction\n",
    "y_pred = model.predict(X_test)\n",
    "\n",
    "#evaluation\n",
    "train_score = model.score(X_train, y_train)\n",
    "test_score = r2_score(y_pred, y_test)\n",
    "\n",
    "print(f\"Linear Regression R2 Train: {train_score:.3f}\")\n",
    "print(f\"Linear Regression R2 Test: {test_score:.3f}\")\n",
    "\n",
    "if train_score < test_score:\n",
    "    print(\"No issue of Overfittng!!\")\n",
    "else:\n",
    "    print(\"The dataset seems to have a data overfitting issue\")\n",
    "    print(\"Using ridge regression we can regularize the data in order to reduce the overfitting issue!\")\n",
    "    ridge = Ridge(alpha=1.0)\n",
    "    ridge.fit(X_train, y_train)\n",
    "    \n",
    "    r2_train = ridge.score(X_train, y_train)\n",
    "    r2_test = r2_score(y_test, ridge.predict(X_test))\n",
    "    \n",
    "    print(f\"Ridge Regression R2 Train: {r2_train:.3f}\")\n",
    "    print(f\"Ridge Regression R2 Test: {r2_test:.3f}\")\n",
    "\n",
    "# Model evaluation\n",
    "#accuracy = accuracy_score(y_test, y_pred)\n",
    "#print(\"Accuracy:\", accuracy)\n"
   ]
  },
  {
   "cell_type": "code",
   "execution_count": null,
   "id": "17e0816a",
   "metadata": {},
   "outputs": [],
   "source": []
  }
 ],
 "metadata": {
  "kernelspec": {
   "display_name": "Python 3 (ipykernel)",
   "language": "python",
   "name": "python3"
  },
  "language_info": {
   "codemirror_mode": {
    "name": "ipython",
    "version": 3
   },
   "file_extension": ".py",
   "mimetype": "text/x-python",
   "name": "python",
   "nbconvert_exporter": "python",
   "pygments_lexer": "ipython3",
   "version": "3.9.12"
  }
 },
 "nbformat": 4,
 "nbformat_minor": 5
}
